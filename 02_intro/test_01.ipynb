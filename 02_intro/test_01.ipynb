{
 "cells": [
  {
   "cell_type": "code",
   "execution_count": 2,
   "id": "6ed88824-98fe-4f7d-ab05-0874a9aba216",
   "metadata": {},
   "outputs": [],
   "source": [
    "use std::fmt::Debug;"
   ]
  },
  {
   "cell_type": "code",
   "execution_count": 3,
   "id": "9a537392-729e-42d5-a2d5-2f88d2cae664",
   "metadata": {},
   "outputs": [],
   "source": [
    "pub struct Matrix<T> {pub values: Vec<T>, pub row_size: usize}"
   ]
  },
  {
   "cell_type": "code",
   "execution_count": 4,
   "id": "bb312a45-101c-419c-9b48-db173fab7a5e",
   "metadata": {},
   "outputs": [],
   "source": [
    "impl<T: Debug> Matrix<T> {\n",
    "    pub fn evcxr_display(&self) {\n",
    "        let mut html = String::new();\n",
    "        html.push_str(\"<table>\");\n",
    "        for r in 0..(self.values.len() / self.row_size) {\n",
    "            html.push_str(\"<tr>\");\n",
    "            for c in 0..self.row_size {\n",
    "                html.push_str(\"<td>\");\n",
    "                html.push_str(&format!(\"{:?}\", self.values[r * self.row_size + c]));\n",
    "                html.push_str(\"</td>\");\n",
    "            }\n",
    "            html.push_str(\"</tr>\");\n",
    "        }\n",
    "        html.push_str(\"</table>\");\n",
    "        println!(\"EVCXR_BEGIN_CONTENT text/html\\n{}\\nEVCXR_END_CONTENT\", html);\n",
    "    }\n",
    "}"
   ]
  },
  {
   "cell_type": "code",
   "execution_count": 5,
   "id": "4354cd19-0bed-4e7a-a39c-2608095459bf",
   "metadata": {},
   "outputs": [],
   "source": [
    "let m = Matrix {values: vec![1,2,3,4,5,6,7,8,9], row_size: 3};"
   ]
  },
  {
   "cell_type": "code",
   "execution_count": 7,
   "id": "88e0de5a-0954-4f90-b4a4-cc9ebc1b42d6",
   "metadata": {},
   "outputs": [
    {
     "data": {
      "text/html": [
       "<table><tr><td>1</td><td>2</td><td>3</td></tr><tr><td>4</td><td>5</td><td>6</td></tr><tr><td>7</td><td>8</td><td>9</td></tr></table>"
      ]
     },
     "execution_count": 7,
     "metadata": {},
     "output_type": "execute_result"
    }
   ],
   "source": [
    "m"
   ]
  },
  {
   "cell_type": "markdown",
   "id": "a1c58377-792d-4570-916e-a4bedbc14d63",
   "metadata": {},
   "source": [
    "Refs: https://crates.io/crates/evcxr_jupyter"
   ]
  },
  {
   "cell_type": "code",
   "execution_count": null,
   "id": "ed819db3-c7c2-48bc-9c9f-fb563e57f1c6",
   "metadata": {},
   "outputs": [],
   "source": []
  }
 ],
 "metadata": {
  "kernelspec": {
   "display_name": "Rust",
   "language": "rust",
   "name": "rust"
  },
  "language_info": {
   "codemirror_mode": "rust",
   "file_extension": ".rs",
   "mimetype": "text/rust",
   "name": "Rust",
   "pygment_lexer": "rust",
   "version": ""
  }
 },
 "nbformat": 4,
 "nbformat_minor": 5
}
